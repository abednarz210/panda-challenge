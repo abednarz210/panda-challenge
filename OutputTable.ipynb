{
 "cells": [
  {
   "cell_type": "code",
   "execution_count": 22,
   "metadata": {},
   "outputs": [
    {
     "data": {
      "text/html": [
       "<div>\n",
       "<style scoped>\n",
       "    .dataframe tbody tr th:only-of-type {\n",
       "        vertical-align: middle;\n",
       "    }\n",
       "\n",
       "    .dataframe tbody tr th {\n",
       "        vertical-align: top;\n",
       "    }\n",
       "\n",
       "    .dataframe thead th {\n",
       "        text-align: right;\n",
       "    }\n",
       "</style>\n",
       "<table border=\"1\" class=\"dataframe\">\n",
       "  <thead>\n",
       "    <tr style=\"text-align: right;\">\n",
       "      <th></th>\n",
       "      <th>Total Students</th>\n",
       "      <th>Total Schools</th>\n",
       "      <th>Total Budget $</th>\n",
       "      <th>Average Math Score in %</th>\n",
       "      <th>Average Reading Score in %</th>\n",
       "      <th>% Passing Reading</th>\n",
       "      <th>% Passing Math</th>\n",
       "    </tr>\n",
       "  </thead>\n",
       "  <tbody>\n",
       "    <tr>\n",
       "      <th>0</th>\n",
       "      <td>39170</td>\n",
       "      <td>15</td>\n",
       "      <td>24,649,428</td>\n",
       "      <td>78.98</td>\n",
       "      <td>81.87</td>\n",
       "      <td>85.8</td>\n",
       "      <td>74.98</td>\n",
       "    </tr>\n",
       "  </tbody>\n",
       "</table>\n",
       "</div>"
      ],
      "text/plain": [
       "   Total Students  Total Schools Total Budget $  Average Math Score in %  \\\n",
       "0           39170             15     24,649,428                    78.98   \n",
       "\n",
       "   Average Reading Score in %  % Passing Reading  % Passing Math  \n",
       "0                       81.87               85.8           74.98  "
      ]
     },
     "execution_count": 22,
     "metadata": {},
     "output_type": "execute_result"
    }
   ],
   "source": [
    "# Pandas DataFrame by lists of dicts.\n",
    "import pandas as pd\n",
    "\n",
    "# Initialise data to lists.\n",
    "data = [{'Total Students': 39170, 'Total Schools': 15, 'Total Budget $': \"24,649,428\",\n",
    "        'Average Math Score in %':78.98, 'Average Reading Score in %': 81.87, '% Passing Reading': 85.80, \n",
    "        '% Passing Math': 74.98}]\n",
    "\n",
    "# Creates DataFrame.\n",
    "df = pd.DataFrame(data)\n",
    "\n",
    "# Print the data\n",
    "df\n",
    "\n"
   ]
  },
  {
   "cell_type": "code",
   "execution_count": null,
   "metadata": {},
   "outputs": [],
   "source": []
  },
  {
   "cell_type": "code",
   "execution_count": null,
   "metadata": {},
   "outputs": [],
   "source": []
  }
 ],
 "metadata": {
  "kernelspec": {
   "display_name": "Python [conda env:PythonData] *",
   "language": "python",
   "name": "conda-env-PythonData-py"
  },
  "language_info": {
   "codemirror_mode": {
    "name": "ipython",
    "version": 3
   },
   "file_extension": ".py",
   "mimetype": "text/x-python",
   "name": "python",
   "nbconvert_exporter": "python",
   "pygments_lexer": "ipython3",
   "version": "3.6.10"
  }
 },
 "nbformat": 4,
 "nbformat_minor": 4
}
